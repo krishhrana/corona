{
 "cells": [
  {
   "cell_type": "code",
   "execution_count": 2,
   "metadata": {
    "_cell_guid": "79c7e3d0-c299-4dcb-8224-4455121ee9b0",
    "_uuid": "d629ff2d2480ee46fbb7e2d37f6b5fab8052498a"
   },
   "outputs": [],
   "source": [
    "import numpy as np \n",
    "import os\n",
    "import pandas as pd\n",
    "import matplotlib\n",
    "import cv2"
   ]
  },
  {
   "cell_type": "code",
   "execution_count": 3,
   "metadata": {},
   "outputs": [],
   "source": [
    "DATA_PATH=\"/kaggle/input/covidlarge/train\"\n",
    "CATEGORIES=['Covid', 'NORMAL', 'PNEUMONIA']\n",
    "img_size=150\n",
    "training_data = []\n",
    "def create_training_data():\n",
    "    #iterating through different categories\n",
    "    for category in CATEGORIES:\n",
    "        path=os.path.join(DATA_PATH, category)\n",
    "        print(path)\n",
    "        class_num = CATEGORIES.index(category)\n",
    "        print(class_num)\n",
    "        for img in os.listdir(path):\n",
    "            try:\n",
    "                img_array = cv2.imread(os.path.join(path,img), cv2.IMREAD_GRAYSCALE)\n",
    "                new_array = cv2.resize(img_array,(img_size,img_size))\n",
    "                training_data.append([new_array,class_num])\n",
    "            except Exception as e:\n",
    "                pass"
   ]
  },
  {
   "cell_type": "code",
   "execution_count": 4,
   "metadata": {},
   "outputs": [
    {
     "name": "stdout",
     "output_type": "stream",
     "text": [
      "/kaggle/input/covidlarge/train/Covid\n",
      "0\n",
      "/kaggle/input/covidlarge/train/NORMAL\n",
      "1\n",
      "/kaggle/input/covidlarge/train/PNEUMONIA\n",
      "2\n",
      "18707\n"
     ]
    }
   ],
   "source": [
    "create_training_data()\n",
    "print(len(training_data))"
   ]
  },
  {
   "cell_type": "code",
   "execution_count": 5,
   "metadata": {},
   "outputs": [],
   "source": [
    "import random\n",
    "random.shuffle(training_data)"
   ]
  },
  {
   "cell_type": "code",
   "execution_count": 6,
   "metadata": {},
   "outputs": [
    {
     "name": "stdout",
     "output_type": "stream",
     "text": [
      "(18707, 150, 150, 1)\n",
      "18707\n"
     ]
    }
   ],
   "source": [
    "X=[]\n",
    "y=[]\n",
    "\n",
    "for features,label in training_data: \n",
    "\tX.append(features)\n",
    "\ty.append(label)\n",
    "\n",
    "\n",
    "X=np.array(X).reshape(-1, img_size, img_size, 1) \n",
    "print(X.shape)\n",
    "print(len(y))"
   ]
  },
  {
   "cell_type": "code",
   "execution_count": 7,
   "metadata": {},
   "outputs": [],
   "source": [
    "import tensorflow as tf\n",
    "from tensorflow.keras.models import Sequential\n",
    "from tensorflow.keras.layers import Dense, Dropout, Activation, Flatten\n",
    "from tensorflow.keras.layers import Conv2D, MaxPooling2D, LeakyReLU\n",
    "from tensorflow.keras.utils import to_categorical\n",
    "from tensorflow.keras import optimizers\n",
    "from tensorflow.keras.callbacks import ModelCheckpoint, ReduceLROnPlateau, EarlyStopping"
   ]
  },
  {
   "cell_type": "code",
   "execution_count": 8,
   "metadata": {},
   "outputs": [
    {
     "name": "stdout",
     "output_type": "stream",
     "text": [
      "Model: \"sequential\"\n",
      "_________________________________________________________________\n",
      "Layer (type)                 Output Shape              Param #   \n",
      "=================================================================\n",
      "conv2d (Conv2D)              (None, 148, 148, 32)      320       \n",
      "_________________________________________________________________\n",
      "activation (Activation)      (None, 148, 148, 32)      0         \n",
      "_________________________________________________________________\n",
      "max_pooling2d (MaxPooling2D) (None, 74, 74, 32)        0         \n",
      "_________________________________________________________________\n",
      "conv2d_1 (Conv2D)            (None, 72, 72, 64)        18496     \n",
      "_________________________________________________________________\n",
      "activation_1 (Activation)    (None, 72, 72, 64)        0         \n",
      "_________________________________________________________________\n",
      "max_pooling2d_1 (MaxPooling2 (None, 36, 36, 64)        0         \n",
      "_________________________________________________________________\n",
      "conv2d_2 (Conv2D)            (None, 34, 34, 256)       147712    \n",
      "_________________________________________________________________\n",
      "activation_2 (Activation)    (None, 34, 34, 256)       0         \n",
      "_________________________________________________________________\n",
      "max_pooling2d_2 (MaxPooling2 (None, 17, 17, 256)       0         \n",
      "_________________________________________________________________\n",
      "conv2d_3 (Conv2D)            (None, 15, 15, 512)       1180160   \n",
      "_________________________________________________________________\n",
      "activation_3 (Activation)    (None, 15, 15, 512)       0         \n",
      "_________________________________________________________________\n",
      "max_pooling2d_3 (MaxPooling2 (None, 7, 7, 512)         0         \n",
      "_________________________________________________________________\n",
      "conv2d_4 (Conv2D)            (None, 5, 5, 1024)        4719616   \n",
      "_________________________________________________________________\n",
      "activation_4 (Activation)    (None, 5, 5, 1024)        0         \n",
      "_________________________________________________________________\n",
      "max_pooling2d_4 (MaxPooling2 (None, 2, 2, 1024)        0         \n",
      "_________________________________________________________________\n",
      "flatten (Flatten)            (None, 4096)              0         \n",
      "_________________________________________________________________\n",
      "dense (Dense)                (None, 500)               2048500   \n",
      "_________________________________________________________________\n",
      "activation_5 (Activation)    (None, 500)               0         \n",
      "_________________________________________________________________\n",
      "dropout (Dropout)            (None, 500)               0         \n",
      "_________________________________________________________________\n",
      "dense_1 (Dense)              (None, 300)               150300    \n",
      "_________________________________________________________________\n",
      "activation_6 (Activation)    (None, 300)               0         \n",
      "_________________________________________________________________\n",
      "dropout_1 (Dropout)          (None, 300)               0         \n",
      "_________________________________________________________________\n",
      "dense_2 (Dense)              (None, 100)               30100     \n",
      "_________________________________________________________________\n",
      "activation_7 (Activation)    (None, 100)               0         \n",
      "_________________________________________________________________\n",
      "dropout_2 (Dropout)          (None, 100)               0         \n",
      "_________________________________________________________________\n",
      "dense_3 (Dense)              (None, 3)                 303       \n",
      "_________________________________________________________________\n",
      "activation_8 (Activation)    (None, 3)                 0         \n",
      "=================================================================\n",
      "Total params: 8,295,507\n",
      "Trainable params: 8,295,507\n",
      "Non-trainable params: 0\n",
      "_________________________________________________________________\n"
     ]
    }
   ],
   "source": [
    "X=X/255\n",
    "model=Sequential()\n",
    "model.add(Conv2D(32, (3,3), input_shape=X.shape[1:]))\n",
    "model.add(Activation('relu'))\n",
    "#model.add(Conv2D(32,(3,3)))\n",
    "#model.add(Activation('relu'))\n",
    "model.add(MaxPooling2D(2,2))\n",
    "\n",
    "\n",
    "\n",
    "#model.add(Conv2D(64, (3,3)))\n",
    "#model.add(Activation('relu'))\n",
    "model.add(Conv2D(64, (3,3)))\n",
    "model.add(Activation('relu'))\n",
    "model.add(MaxPooling2D(2,2))\n",
    "\n",
    "#model.add(Conv2D(256, (3,3)))\n",
    "#model.add(Activation('relu'))\n",
    "model.add(Conv2D(256, (3,3)))\n",
    "model.add(Activation('relu'))\n",
    "model.add(MaxPooling2D(2,2))\n",
    "\n",
    "#model.add(Conv2D(512, (3,3)))\n",
    "#model.add(Activation('relu'))\n",
    "model.add(Conv2D(512, (3,3)))\n",
    "model.add(Activation('relu'))\n",
    "model.add(MaxPooling2D(2,2))\n",
    "\n",
    "model.add(Conv2D(1024, (3,3)))\n",
    "model.add(Activation('relu'))\n",
    "model.add(MaxPooling2D(2,2))\n",
    "\n",
    "#model.add(Conv2D(2048, (3,3)))\n",
    "#model.add(Activation('relu'))\n",
    "#model.add(MaxPooling2D(2,2))\n",
    "\n",
    "\n",
    "\n",
    "\n",
    "model.add(Flatten())\n",
    "model.add(Dense(500))\n",
    "model.add(Activation('relu'))\n",
    "model.add(Dropout(0.25))\n",
    "\n",
    "model.add(Dense(300))\n",
    "model.add(Activation('relu'))\n",
    "model.add(Dropout(0.25))\n",
    "\n",
    "model.add(Dense(100))\n",
    "model.add(Activation('relu'))\n",
    "model.add(Dropout(0.25))\n",
    "\n",
    "model.add(Dense(3))\n",
    "model.add(Activation('softmax'))\n",
    "model.summary()\n",
    "\n"
   ]
  },
  {
   "cell_type": "code",
   "execution_count": 9,
   "metadata": {},
   "outputs": [],
   "source": [
    "target=to_categorical(y, num_classes=3)"
   ]
  },
  {
   "cell_type": "code",
   "execution_count": 10,
   "metadata": {},
   "outputs": [],
   "source": [
    "batch_size=64\n",
    "epochs=15\n",
    "\n",
    "checkpoint = ModelCheckpoint(filepath='covid19.h5', save_best_only=True)\n",
    "#lr_reduce = ReduceLROnPlateau(monitor='val_loss', factor=0.3, patience=4, verbose=2, mode='max')\n",
    "early_stop = EarlyStopping(monitor='val_loss', min_delta=0.1, patience=1, mode='min')"
   ]
  },
  {
   "cell_type": "code",
   "execution_count": 11,
   "metadata": {},
   "outputs": [],
   "source": [
    "model.compile(optimizer='Adamax', loss='categorical_crossentropy', metrics=['accuracy'])"
   ]
  },
  {
   "cell_type": "code",
   "execution_count": 12,
   "metadata": {},
   "outputs": [
    {
     "name": "stdout",
     "output_type": "stream",
     "text": [
      "Train on 14965 samples, validate on 3742 samples\n",
      "Epoch 1/15\n",
      "14965/14965 [==============================] - 17s 1ms/sample - loss: 0.6235 - accuracy: 0.6511 - val_loss: 0.4296 - val_accuracy: 0.8215\n",
      "Epoch 2/15\n",
      "14965/14965 [==============================] - 12s 801us/sample - loss: 0.3922 - accuracy: 0.8483 - val_loss: 0.3508 - val_accuracy: 0.8691\n",
      "Epoch 3/15\n",
      "14965/14965 [==============================] - 12s 795us/sample - loss: 0.3421 - accuracy: 0.8755 - val_loss: 0.3203 - val_accuracy: 0.8776\n",
      "Epoch 4/15\n",
      "14965/14965 [==============================] - 12s 791us/sample - loss: 0.3078 - accuracy: 0.8850 - val_loss: 0.2768 - val_accuracy: 0.8958\n",
      "Epoch 5/15\n",
      "14965/14965 [==============================] - 12s 793us/sample - loss: 0.2824 - accuracy: 0.8982 - val_loss: 0.2722 - val_accuracy: 0.9006\n",
      "Epoch 6/15\n",
      "14965/14965 [==============================] - 12s 807us/sample - loss: 0.2620 - accuracy: 0.9065 - val_loss: 0.2681 - val_accuracy: 0.8939\n",
      "Epoch 7/15\n",
      "14965/14965 [==============================] - 12s 800us/sample - loss: 0.2392 - accuracy: 0.9149 - val_loss: 0.2521 - val_accuracy: 0.9067\n",
      "Epoch 8/15\n",
      "14965/14965 [==============================] - 12s 777us/sample - loss: 0.2233 - accuracy: 0.9210 - val_loss: 0.2553 - val_accuracy: 0.9067\n",
      "Epoch 9/15\n",
      "14965/14965 [==============================] - 12s 797us/sample - loss: 0.2062 - accuracy: 0.9271 - val_loss: 0.2337 - val_accuracy: 0.9107\n",
      "Epoch 10/15\n",
      "14965/14965 [==============================] - 12s 794us/sample - loss: 0.1928 - accuracy: 0.9326 - val_loss: 0.2329 - val_accuracy: 0.9102\n",
      "Epoch 11/15\n",
      "14965/14965 [==============================] - 12s 785us/sample - loss: 0.1769 - accuracy: 0.9380 - val_loss: 0.2714 - val_accuracy: 0.9006\n",
      "Epoch 12/15\n",
      "14965/14965 [==============================] - 12s 815us/sample - loss: 0.1606 - accuracy: 0.9426 - val_loss: 0.2271 - val_accuracy: 0.9185\n",
      "Epoch 13/15\n",
      "14965/14965 [==============================] - 12s 781us/sample - loss: 0.1501 - accuracy: 0.9479 - val_loss: 0.2946 - val_accuracy: 0.9051\n",
      "Epoch 14/15\n",
      "14965/14965 [==============================] - 12s 780us/sample - loss: 0.1303 - accuracy: 0.9556 - val_loss: 0.2549 - val_accuracy: 0.9129\n",
      "Epoch 15/15\n",
      "14965/14965 [==============================] - 12s 783us/sample - loss: 0.1192 - accuracy: 0.9606 - val_loss: 0.2687 - val_accuracy: 0.9091\n"
     ]
    }
   ],
   "source": [
    "history=model.fit(X, target, epochs=epochs, batch_size=batch_size, validation_split=0.2, callbacks=[checkpoint])"
   ]
  },
  {
   "cell_type": "code",
   "execution_count": 13,
   "metadata": {},
   "outputs": [],
   "source": [
    "model.save('covidLarge.h5')"
   ]
  }
 ],
 "metadata": {
  "kernelspec": {
   "display_name": "Python 3",
   "language": "python",
   "name": "python3"
  },
  "language_info": {
   "codemirror_mode": {
    "name": "ipython",
    "version": 3
   },
   "file_extension": ".py",
   "mimetype": "text/x-python",
   "name": "python",
   "nbconvert_exporter": "python",
   "pygments_lexer": "ipython3",
   "version": "3.7.3"
  }
 },
 "nbformat": 4,
 "nbformat_minor": 4
}
